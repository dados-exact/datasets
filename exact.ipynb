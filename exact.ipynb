{
 "cells": [
  {
   "cell_type": "code",
   "execution_count": 148,
   "metadata": {},
   "outputs": [],
   "source": [
    "import pandas as pd\n",
    "import numpy as np\n",
    "import plotly.express as px\n",
    "import matplotlib.pyplot as plt\n",
    "import requests"
   ]
  },
  {
   "cell_type": "code",
   "execution_count": 149,
   "metadata": {},
   "outputs": [
    {
     "data": {
      "text/html": [
       "<div>\n",
       "<style scoped>\n",
       "    .dataframe tbody tr th:only-of-type {\n",
       "        vertical-align: middle;\n",
       "    }\n",
       "\n",
       "    .dataframe tbody tr th {\n",
       "        vertical-align: top;\n",
       "    }\n",
       "\n",
       "    .dataframe thead th {\n",
       "        text-align: right;\n",
       "    }\n",
       "</style>\n",
       "<table border=\"1\" class=\"dataframe\">\n",
       "  <thead>\n",
       "    <tr style=\"text-align: right;\">\n",
       "      <th></th>\n",
       "      <th>Id</th>\n",
       "      <th>VlrNota</th>\n",
       "      <th>Dt. Evento</th>\n",
       "      <th>Ano Evento</th>\n",
       "      <th>Receita</th>\n",
       "      <th>Dt. Entrada</th>\n",
       "      <th>Tempo de vida da safra</th>\n",
       "      <th>Ano Entrada</th>\n",
       "      <th>Porte Ajustado</th>\n",
       "      <th>Origem ajustada</th>\n",
       "      <th>Integração RD Mkt e CRM</th>\n",
       "      <th>Webphone</th>\n",
       "      <th>Exact Club</th>\n",
       "      <th>Média de Leads em Entrada (Categorias)</th>\n",
       "      <th>CNAE</th>\n",
       "    </tr>\n",
       "  </thead>\n",
       "  <tbody>\n",
       "    <tr>\n",
       "      <th>0</th>\n",
       "      <td>1</td>\n",
       "      <td>R$ 597,00</td>\n",
       "      <td>01/10/2022</td>\n",
       "      <td>2022</td>\n",
       "      <td>Spotter</td>\n",
       "      <td>01/08/2020</td>\n",
       "      <td>27</td>\n",
       "      <td>2020</td>\n",
       "      <td>Small</td>\n",
       "      <td>Lista ativa</td>\n",
       "      <td>False</td>\n",
       "      <td>True</td>\n",
       "      <td>False</td>\n",
       "      <td>-</td>\n",
       "      <td>INTERNACIONAL</td>\n",
       "    </tr>\n",
       "  </tbody>\n",
       "</table>\n",
       "</div>"
      ],
      "text/plain": [
       "   Id    VlrNota  Dt. Evento  Ano Evento  Receita Dt. Entrada  \\\n",
       "0   1  R$ 597,00  01/10/2022        2022  Spotter  01/08/2020   \n",
       "\n",
       "   Tempo de vida da safra  Ano Entrada Porte Ajustado Origem ajustada  \\\n",
       "0                      27         2020          Small     Lista ativa   \n",
       "\n",
       "   Integração RD Mkt e CRM  Webphone  Exact Club  \\\n",
       "0                    False      True       False   \n",
       "\n",
       "  Média de Leads em Entrada (Categorias)           CNAE  \n",
       "0                                      -  INTERNACIONAL  "
      ]
     },
     "execution_count": 149,
     "metadata": {},
     "output_type": "execute_result"
    }
   ],
   "source": [
    "df = pd.read_csv('exact.csv')\n",
    "df.head(1)"
   ]
  },
  {
   "cell_type": "code",
   "execution_count": 150,
   "metadata": {},
   "outputs": [
    {
     "data": {
      "text/html": [
       "<div>\n",
       "<style scoped>\n",
       "    .dataframe tbody tr th:only-of-type {\n",
       "        vertical-align: middle;\n",
       "    }\n",
       "\n",
       "    .dataframe tbody tr th {\n",
       "        vertical-align: top;\n",
       "    }\n",
       "\n",
       "    .dataframe thead th {\n",
       "        text-align: right;\n",
       "    }\n",
       "</style>\n",
       "<table border=\"1\" class=\"dataframe\">\n",
       "  <thead>\n",
       "    <tr style=\"text-align: right;\">\n",
       "      <th></th>\n",
       "      <th>ID</th>\n",
       "      <th>CNPJ</th>\n",
       "      <th>RAZAO</th>\n",
       "    </tr>\n",
       "  </thead>\n",
       "  <tbody>\n",
       "    <tr>\n",
       "      <th>0</th>\n",
       "      <td>1</td>\n",
       "      <td>10722640</td>\n",
       "      <td>FERCOPY, INC</td>\n",
       "    </tr>\n",
       "  </tbody>\n",
       "</table>\n",
       "</div>"
      ],
      "text/plain": [
       "   ID      CNPJ         RAZAO\n",
       "0   1  10722640  FERCOPY, INC"
      ]
     },
     "execution_count": 150,
     "metadata": {},
     "output_type": "execute_result"
    }
   ],
   "source": [
    "ch = pd.read_csv('chave.csv')\n",
    "ch.head(1)"
   ]
  },
  {
   "cell_type": "code",
   "execution_count": 151,
   "metadata": {},
   "outputs": [],
   "source": [
    "base = ch.merge(df, left_on='ID',  right_on='Id')"
   ]
  },
  {
   "cell_type": "code",
   "execution_count": 152,
   "metadata": {},
   "outputs": [],
   "source": [
    "headers = {'Authorization':'QGwuS9KGnXSt5s5A'}\n",
    "\n",
    "url = \"https://usagetracker.exactsales.com.br/api/v1/clientes/Empresas?pDtInicio=2010-01-01&pLayoutRetorno=Linear\"\n",
    "r = requests.get(url, headers=headers)\n",
    "c1=pd.DataFrame(r.json())\n",
    "\n",
    "url = \"https://usagetracker.exactsales.com.br/api/v2/clientes/Empresas?pDtInicio=2010-01-01&pLayoutRetorno=Linear\"\n",
    "r = requests.get(url, headers=headers)\n",
    "c2=pd.DataFrame(r.json())\n",
    "\n",
    "cli = pd.concat([c1,c2])"
   ]
  },
  {
   "cell_type": "code",
   "execution_count": 153,
   "metadata": {},
   "outputs": [
    {
     "data": {
      "text/html": [
       "<div>\n",
       "<style scoped>\n",
       "    .dataframe tbody tr th:only-of-type {\n",
       "        vertical-align: middle;\n",
       "    }\n",
       "\n",
       "    .dataframe tbody tr th {\n",
       "        vertical-align: top;\n",
       "    }\n",
       "\n",
       "    .dataframe thead th {\n",
       "        text-align: right;\n",
       "    }\n",
       "</style>\n",
       "<table border=\"1\" class=\"dataframe\">\n",
       "  <thead>\n",
       "    <tr style=\"text-align: right;\">\n",
       "      <th></th>\n",
       "      <th>SpotterId</th>\n",
       "      <th>ID1</th>\n",
       "      <th>NomeEmpresa</th>\n",
       "      <th>RazaoSocial</th>\n",
       "      <th>StatusEmpresa</th>\n",
       "      <th>CadastroEmpresa</th>\n",
       "      <th>TelefoneEmpresa</th>\n",
       "      <th>LimiteUsuarios</th>\n",
       "    </tr>\n",
       "  </thead>\n",
       "  <tbody>\n",
       "    <tr>\n",
       "      <th>0</th>\n",
       "      <td>4</td>\n",
       "      <td>78614229000103</td>\n",
       "      <td>Multilog</td>\n",
       "      <td>MULTILOG S.A.</td>\n",
       "      <td>Inativo</td>\n",
       "      <td>2015-05-03</td>\n",
       "      <td>None</td>\n",
       "      <td>5000</td>\n",
       "    </tr>\n",
       "  </tbody>\n",
       "</table>\n",
       "</div>"
      ],
      "text/plain": [
       "   SpotterId             ID1 NomeEmpresa    RazaoSocial StatusEmpresa  \\\n",
       "0          4  78614229000103    Multilog  MULTILOG S.A.       Inativo   \n",
       "\n",
       "  CadastroEmpresa TelefoneEmpresa  LimiteUsuarios  \n",
       "0      2015-05-03            None            5000  "
      ]
     },
     "execution_count": 153,
     "metadata": {},
     "output_type": "execute_result"
    }
   ],
   "source": [
    "cli.head(1)"
   ]
  },
  {
   "cell_type": "code",
   "execution_count": 154,
   "metadata": {},
   "outputs": [],
   "source": [
    "cli['ID1'] = cli['ID1'].astype('str')"
   ]
  },
  {
   "cell_type": "code",
   "execution_count": 155,
   "metadata": {},
   "outputs": [],
   "source": [
    "cli.rename(columns={'ID1':'cnpj', 'RazaoSocial':'RAZAO'},inplace=True)"
   ]
  },
  {
   "cell_type": "code",
   "execution_count": 156,
   "metadata": {},
   "outputs": [],
   "source": [
    "base = base.merge(cli[['RAZAO','cnpj','SpotterId']])"
   ]
  },
  {
   "cell_type": "code",
   "execution_count": 157,
   "metadata": {},
   "outputs": [],
   "source": [
    "base.drop(columns=['ID','CNPJ','Id'], inplace=True)"
   ]
  },
  {
   "cell_type": "code",
   "execution_count": 158,
   "metadata": {},
   "outputs": [
    {
     "data": {
      "text/html": [
       "<div>\n",
       "<style scoped>\n",
       "    .dataframe tbody tr th:only-of-type {\n",
       "        vertical-align: middle;\n",
       "    }\n",
       "\n",
       "    .dataframe tbody tr th {\n",
       "        vertical-align: top;\n",
       "    }\n",
       "\n",
       "    .dataframe thead th {\n",
       "        text-align: right;\n",
       "    }\n",
       "</style>\n",
       "<table border=\"1\" class=\"dataframe\">\n",
       "  <thead>\n",
       "    <tr style=\"text-align: right;\">\n",
       "      <th></th>\n",
       "      <th>RAZAO</th>\n",
       "      <th>VlrNota</th>\n",
       "      <th>Dt. Evento</th>\n",
       "      <th>Ano Evento</th>\n",
       "      <th>Receita</th>\n",
       "      <th>Dt. Entrada</th>\n",
       "      <th>Tempo de vida da safra</th>\n",
       "      <th>Ano Entrada</th>\n",
       "      <th>Porte Ajustado</th>\n",
       "      <th>Origem ajustada</th>\n",
       "      <th>Integração RD Mkt e CRM</th>\n",
       "      <th>Webphone</th>\n",
       "      <th>Exact Club</th>\n",
       "      <th>Média de Leads em Entrada (Categorias)</th>\n",
       "      <th>CNAE</th>\n",
       "      <th>cnpj</th>\n",
       "      <th>SpotterId</th>\n",
       "    </tr>\n",
       "  </thead>\n",
       "  <tbody>\n",
       "    <tr>\n",
       "      <th>62571</th>\n",
       "      <td>BIN.COM PRODUTOS ALIMENTICIOS EIRELI - ME</td>\n",
       "      <td>R$ 699,00</td>\n",
       "      <td>01/12/2018</td>\n",
       "      <td>2018</td>\n",
       "      <td>Spotter</td>\n",
       "      <td>01/11/2017</td>\n",
       "      <td>14</td>\n",
       "      <td>2017</td>\n",
       "      <td>SEM PORTE DEFINIDO</td>\n",
       "      <td>Lista ativa</td>\n",
       "      <td>False</td>\n",
       "      <td>False</td>\n",
       "      <td>False</td>\n",
       "      <td>-</td>\n",
       "      <td>Fabricação de outros produtos alimentícios não...</td>\n",
       "      <td>11226117000104</td>\n",
       "      <td>1027</td>\n",
       "    </tr>\n",
       "    <tr>\n",
       "      <th>62572</th>\n",
       "      <td>PHOCUS PROPAGANDA E MARKETING LTDA</td>\n",
       "      <td>R$ 799,00</td>\n",
       "      <td>01/12/2018</td>\n",
       "      <td>2018</td>\n",
       "      <td>Spotter</td>\n",
       "      <td>01/08/2018</td>\n",
       "      <td>5</td>\n",
       "      <td>2018</td>\n",
       "      <td>SEM PORTE DEFINIDO</td>\n",
       "      <td>Lista ativa</td>\n",
       "      <td>False</td>\n",
       "      <td>False</td>\n",
       "      <td>False</td>\n",
       "      <td>-</td>\n",
       "      <td>Agências de publicidade</td>\n",
       "      <td>03698527000120</td>\n",
       "      <td>1418</td>\n",
       "    </tr>\n",
       "    <tr>\n",
       "      <th>62573</th>\n",
       "      <td>PORTAL ENGENHARIA LTDA</td>\n",
       "      <td>R$ 699,00</td>\n",
       "      <td>01/12/2018</td>\n",
       "      <td>2018</td>\n",
       "      <td>Spotter</td>\n",
       "      <td>01/05/2018</td>\n",
       "      <td>8</td>\n",
       "      <td>2018</td>\n",
       "      <td>SEM PORTE DEFINIDO</td>\n",
       "      <td>Lista ativa</td>\n",
       "      <td>False</td>\n",
       "      <td>False</td>\n",
       "      <td>False</td>\n",
       "      <td>-</td>\n",
       "      <td>Serviços de engenharia</td>\n",
       "      <td>02363128000145</td>\n",
       "      <td>1256</td>\n",
       "    </tr>\n",
       "    <tr>\n",
       "      <th>62574</th>\n",
       "      <td>PRIME LASER INFORMATICA LTDA</td>\n",
       "      <td>R$ 799,00</td>\n",
       "      <td>01/12/2018</td>\n",
       "      <td>2018</td>\n",
       "      <td>Spotter</td>\n",
       "      <td>01/09/2018</td>\n",
       "      <td>4</td>\n",
       "      <td>2018</td>\n",
       "      <td>SEM PORTE DEFINIDO</td>\n",
       "      <td>Lista ativa</td>\n",
       "      <td>False</td>\n",
       "      <td>False</td>\n",
       "      <td>False</td>\n",
       "      <td>-</td>\n",
       "      <td>Comércio atacadista de suprimentos para inform...</td>\n",
       "      <td>06886738000184</td>\n",
       "      <td>1520</td>\n",
       "    </tr>\n",
       "    <tr>\n",
       "      <th>62575</th>\n",
       "      <td>TETRALON IND E COM DE EQUIPAMENTOS INDUSTRIAIS...</td>\n",
       "      <td>R$ 499,00</td>\n",
       "      <td>01/12/2018</td>\n",
       "      <td>2018</td>\n",
       "      <td>Spotter</td>\n",
       "      <td>01/05/2017</td>\n",
       "      <td>20</td>\n",
       "      <td>2017</td>\n",
       "      <td>SEM PORTE DEFINIDO</td>\n",
       "      <td>Lista ativa</td>\n",
       "      <td>False</td>\n",
       "      <td>False</td>\n",
       "      <td>False</td>\n",
       "      <td>-</td>\n",
       "      <td>Fabricação de outras máquinas e equipamentos d...</td>\n",
       "      <td>53945507000184</td>\n",
       "      <td>770</td>\n",
       "    </tr>\n",
       "  </tbody>\n",
       "</table>\n",
       "</div>"
      ],
      "text/plain": [
       "                                                   RAZAO    VlrNota  \\\n",
       "62571          BIN.COM PRODUTOS ALIMENTICIOS EIRELI - ME  R$ 699,00   \n",
       "62572                 PHOCUS PROPAGANDA E MARKETING LTDA  R$ 799,00   \n",
       "62573                             PORTAL ENGENHARIA LTDA  R$ 699,00   \n",
       "62574                       PRIME LASER INFORMATICA LTDA  R$ 799,00   \n",
       "62575  TETRALON IND E COM DE EQUIPAMENTOS INDUSTRIAIS...  R$ 499,00   \n",
       "\n",
       "       Dt. Evento  Ano Evento  Receita Dt. Entrada  Tempo de vida da safra  \\\n",
       "62571  01/12/2018        2018  Spotter  01/11/2017                      14   \n",
       "62572  01/12/2018        2018  Spotter  01/08/2018                       5   \n",
       "62573  01/12/2018        2018  Spotter  01/05/2018                       8   \n",
       "62574  01/12/2018        2018  Spotter  01/09/2018                       4   \n",
       "62575  01/12/2018        2018  Spotter  01/05/2017                      20   \n",
       "\n",
       "       Ano Entrada      Porte Ajustado Origem ajustada  \\\n",
       "62571         2017  SEM PORTE DEFINIDO     Lista ativa   \n",
       "62572         2018  SEM PORTE DEFINIDO     Lista ativa   \n",
       "62573         2018  SEM PORTE DEFINIDO     Lista ativa   \n",
       "62574         2018  SEM PORTE DEFINIDO     Lista ativa   \n",
       "62575         2017  SEM PORTE DEFINIDO     Lista ativa   \n",
       "\n",
       "       Integração RD Mkt e CRM  Webphone  Exact Club  \\\n",
       "62571                    False     False       False   \n",
       "62572                    False     False       False   \n",
       "62573                    False     False       False   \n",
       "62574                    False     False       False   \n",
       "62575                    False     False       False   \n",
       "\n",
       "      Média de Leads em Entrada (Categorias)  \\\n",
       "62571                                      -   \n",
       "62572                                      -   \n",
       "62573                                      -   \n",
       "62574                                      -   \n",
       "62575                                      -   \n",
       "\n",
       "                                                    CNAE            cnpj  \\\n",
       "62571  Fabricação de outros produtos alimentícios não...  11226117000104   \n",
       "62572                            Agências de publicidade  03698527000120   \n",
       "62573                             Serviços de engenharia  02363128000145   \n",
       "62574  Comércio atacadista de suprimentos para inform...  06886738000184   \n",
       "62575  Fabricação de outras máquinas e equipamentos d...  53945507000184   \n",
       "\n",
       "       SpotterId  \n",
       "62571       1027  \n",
       "62572       1418  \n",
       "62573       1256  \n",
       "62574       1520  \n",
       "62575        770  "
      ]
     },
     "execution_count": 158,
     "metadata": {},
     "output_type": "execute_result"
    }
   ],
   "source": [
    "base.tail()"
   ]
  },
  {
   "cell_type": "code",
   "execution_count": 159,
   "metadata": {},
   "outputs": [],
   "source": [
    "base.columns = ['razao_social', 'valor', 'data', 'ano', 'produto',\n",
    "       'data_base', 'lt', 'ano_base', 'porte', 'origem', 'integracao',\n",
    "       'webphone', 'club', 'leads', 'cnae', 'cnpj', 'SpotterId']"
   ]
  },
  {
   "cell_type": "code",
   "execution_count": 160,
   "metadata": {},
   "outputs": [],
   "source": [
    "mrr = base[['cnpj', 'razao_social', 'data_base', 'SpotterId', 'data', 'produto', 'valor']]\n",
    "cliente = base[['cnpj', 'razao_social', 'SpotterId', 'data_base', 'lt', 'ano_base', 'porte', 'origem']].drop_duplicates()"
   ]
  },
  {
   "cell_type": "code",
   "execution_count": 161,
   "metadata": {},
   "outputs": [
    {
     "data": {
      "text/html": [
       "<div>\n",
       "<style scoped>\n",
       "    .dataframe tbody tr th:only-of-type {\n",
       "        vertical-align: middle;\n",
       "    }\n",
       "\n",
       "    .dataframe tbody tr th {\n",
       "        vertical-align: top;\n",
       "    }\n",
       "\n",
       "    .dataframe thead th {\n",
       "        text-align: right;\n",
       "    }\n",
       "</style>\n",
       "<table border=\"1\" class=\"dataframe\">\n",
       "  <thead>\n",
       "    <tr style=\"text-align: right;\">\n",
       "      <th></th>\n",
       "      <th>cnpj</th>\n",
       "      <th>razao_social</th>\n",
       "      <th>data_base</th>\n",
       "      <th>SpotterId</th>\n",
       "      <th>data</th>\n",
       "      <th>produto</th>\n",
       "      <th>valor</th>\n",
       "    </tr>\n",
       "  </thead>\n",
       "  <tbody>\n",
       "    <tr>\n",
       "      <th>0</th>\n",
       "      <td>30500106316</td>\n",
       "      <td>LA LEY SOCIEDAD ANONIMA EDITORA E IMPRESORA</td>\n",
       "      <td>01/11/2019</td>\n",
       "      <td>4680</td>\n",
       "      <td>01/10/2022</td>\n",
       "      <td>Spotter</td>\n",
       "      <td>R$ 2.444,00</td>\n",
       "    </tr>\n",
       "  </tbody>\n",
       "</table>\n",
       "</div>"
      ],
      "text/plain": [
       "          cnpj                                 razao_social   data_base  \\\n",
       "0  30500106316  LA LEY SOCIEDAD ANONIMA EDITORA E IMPRESORA  01/11/2019   \n",
       "\n",
       "   SpotterId        data  produto        valor  \n",
       "0       4680  01/10/2022  Spotter  R$ 2.444,00  "
      ]
     },
     "execution_count": 161,
     "metadata": {},
     "output_type": "execute_result"
    }
   ],
   "source": [
    "mrr.head(1)"
   ]
  },
  {
   "cell_type": "code",
   "execution_count": 162,
   "metadata": {},
   "outputs": [
    {
     "name": "stderr",
     "output_type": "stream",
     "text": [
      "/home/vini/exact/exact/lib/python3.8/site-packages/pandas/core/generic.py:5516: SettingWithCopyWarning:\n",
      "\n",
      "\n",
      "A value is trying to be set on a copy of a slice from a DataFrame.\n",
      "Try using .loc[row_indexer,col_indexer] = value instead\n",
      "\n",
      "See the caveats in the documentation: https://pandas.pydata.org/pandas-docs/stable/user_guide/indexing.html#returning-a-view-versus-a-copy\n",
      "\n"
     ]
    }
   ],
   "source": [
    "def to_float(x):\n",
    "\n",
    "    x = x[2:]\n",
    "    x = x.replace('.','')\n",
    "    x = x.replace(',','.')\n",
    "    x = float(x)\n",
    "    return x\n",
    "\n",
    "mrr.valor = mrr.valor.apply(to_float)"
   ]
  },
  {
   "cell_type": "code",
   "execution_count": 163,
   "metadata": {},
   "outputs": [],
   "source": [
    "mrr.data = pd.to_datetime(mrr.data, format='%d/%m/%Y')\n",
    "mrr.data_base = pd.to_datetime(mrr.data_base, format='%d/%m/%Y')"
   ]
  },
  {
   "cell_type": "code",
   "execution_count": 164,
   "metadata": {},
   "outputs": [],
   "source": [
    "mrr.SpotterId = mrr.SpotterId.astype('str')"
   ]
  },
  {
   "cell_type": "code",
   "execution_count": 165,
   "metadata": {},
   "outputs": [
    {
     "data": {
      "text/html": [
       "<div>\n",
       "<style scoped>\n",
       "    .dataframe tbody tr th:only-of-type {\n",
       "        vertical-align: middle;\n",
       "    }\n",
       "\n",
       "    .dataframe tbody tr th {\n",
       "        vertical-align: top;\n",
       "    }\n",
       "\n",
       "    .dataframe thead th {\n",
       "        text-align: right;\n",
       "    }\n",
       "</style>\n",
       "<table border=\"1\" class=\"dataframe\">\n",
       "  <thead>\n",
       "    <tr style=\"text-align: right;\">\n",
       "      <th></th>\n",
       "      <th>cnpj</th>\n",
       "      <th>razao_social</th>\n",
       "      <th>SpotterId</th>\n",
       "      <th>data_base</th>\n",
       "      <th>lt</th>\n",
       "      <th>ano_base</th>\n",
       "      <th>porte</th>\n",
       "      <th>origem</th>\n",
       "    </tr>\n",
       "  </thead>\n",
       "  <tbody>\n",
       "    <tr>\n",
       "      <th>0</th>\n",
       "      <td>30500106316</td>\n",
       "      <td>LA LEY SOCIEDAD ANONIMA EDITORA E IMPRESORA</td>\n",
       "      <td>4680</td>\n",
       "      <td>01/11/2019</td>\n",
       "      <td>36</td>\n",
       "      <td>2019</td>\n",
       "      <td>Middle</td>\n",
       "      <td>Indicação</td>\n",
       "    </tr>\n",
       "  </tbody>\n",
       "</table>\n",
       "</div>"
      ],
      "text/plain": [
       "          cnpj                                 razao_social  SpotterId  \\\n",
       "0  30500106316  LA LEY SOCIEDAD ANONIMA EDITORA E IMPRESORA       4680   \n",
       "\n",
       "    data_base  lt  ano_base   porte     origem  \n",
       "0  01/11/2019  36      2019  Middle  Indicação  "
      ]
     },
     "execution_count": 165,
     "metadata": {},
     "output_type": "execute_result"
    }
   ],
   "source": [
    "cliente.head(1)"
   ]
  },
  {
   "cell_type": "code",
   "execution_count": 166,
   "metadata": {},
   "outputs": [],
   "source": [
    "cliente.data_base = pd.to_datetime(cliente.data_base, format='%d/%m/%Y')"
   ]
  },
  {
   "cell_type": "code",
   "execution_count": 167,
   "metadata": {},
   "outputs": [],
   "source": [
    "cliente.SpotterId = cliente.SpotterId.astype('str')"
   ]
  },
  {
   "cell_type": "code",
   "execution_count": 168,
   "metadata": {},
   "outputs": [],
   "source": [
    "import dateutil.relativedelta as rd"
   ]
  },
  {
   "cell_type": "code",
   "execution_count": 169,
   "metadata": {},
   "outputs": [
    {
     "name": "stderr",
     "output_type": "stream",
     "text": [
      "/tmp/ipykernel_736/1068792759.py:1: SettingWithCopyWarning:\n",
      "\n",
      "\n",
      "A value is trying to be set on a copy of a slice from a DataFrame.\n",
      "Try using .loc[row_indexer,col_indexer] = value instead\n",
      "\n",
      "See the caveats in the documentation: https://pandas.pydata.org/pandas-docs/stable/user_guide/indexing.html#returning-a-view-versus-a-copy\n",
      "\n",
      "/home/vini/exact/exact/lib/python3.8/site-packages/pandas/core/indexing.py:1732: SettingWithCopyWarning:\n",
      "\n",
      "\n",
      "A value is trying to be set on a copy of a slice from a DataFrame\n",
      "\n",
      "See the caveats in the documentation: https://pandas.pydata.org/pandas-docs/stable/user_guide/indexing.html#returning-a-view-versus-a-copy\n",
      "\n"
     ]
    }
   ],
   "source": [
    "mrr['meses'] = 0\n",
    "for i in mrr.index:\n",
    "\n",
    "    d = rd.relativedelta(mrr.data.loc[i], mrr.data_base.loc[i])\n",
    "    mrr['meses'].loc[i] = d.months + (d.years * 12)"
   ]
  },
  {
   "cell_type": "code",
   "execution_count": 170,
   "metadata": {},
   "outputs": [
    {
     "data": {
      "text/html": [
       "<div>\n",
       "<style scoped>\n",
       "    .dataframe tbody tr th:only-of-type {\n",
       "        vertical-align: middle;\n",
       "    }\n",
       "\n",
       "    .dataframe tbody tr th {\n",
       "        vertical-align: top;\n",
       "    }\n",
       "\n",
       "    .dataframe thead th {\n",
       "        text-align: right;\n",
       "    }\n",
       "</style>\n",
       "<table border=\"1\" class=\"dataframe\">\n",
       "  <thead>\n",
       "    <tr style=\"text-align: right;\">\n",
       "      <th></th>\n",
       "      <th>valor</th>\n",
       "      <th>meses</th>\n",
       "    </tr>\n",
       "  </thead>\n",
       "  <tbody>\n",
       "    <tr>\n",
       "      <th>count</th>\n",
       "      <td>62576.000000</td>\n",
       "      <td>62576.000000</td>\n",
       "    </tr>\n",
       "    <tr>\n",
       "      <th>mean</th>\n",
       "      <td>533.557605</td>\n",
       "      <td>10.029628</td>\n",
       "    </tr>\n",
       "    <tr>\n",
       "      <th>std</th>\n",
       "      <td>634.753105</td>\n",
       "      <td>11.797192</td>\n",
       "    </tr>\n",
       "    <tr>\n",
       "      <th>min</th>\n",
       "      <td>11.500000</td>\n",
       "      <td>0.000000</td>\n",
       "    </tr>\n",
       "    <tr>\n",
       "      <th>25%</th>\n",
       "      <td>149.000000</td>\n",
       "      <td>2.000000</td>\n",
       "    </tr>\n",
       "    <tr>\n",
       "      <th>50%</th>\n",
       "      <td>398.000000</td>\n",
       "      <td>6.000000</td>\n",
       "    </tr>\n",
       "    <tr>\n",
       "      <th>75%</th>\n",
       "      <td>699.000000</td>\n",
       "      <td>13.000000</td>\n",
       "    </tr>\n",
       "    <tr>\n",
       "      <th>max</th>\n",
       "      <td>10218.000000</td>\n",
       "      <td>90.000000</td>\n",
       "    </tr>\n",
       "  </tbody>\n",
       "</table>\n",
       "</div>"
      ],
      "text/plain": [
       "              valor         meses\n",
       "count  62576.000000  62576.000000\n",
       "mean     533.557605     10.029628\n",
       "std      634.753105     11.797192\n",
       "min       11.500000      0.000000\n",
       "25%      149.000000      2.000000\n",
       "50%      398.000000      6.000000\n",
       "75%      699.000000     13.000000\n",
       "max    10218.000000     90.000000"
      ]
     },
     "execution_count": 170,
     "metadata": {},
     "output_type": "execute_result"
    }
   ],
   "source": [
    "mrr.describe()"
   ]
  },
  {
   "cell_type": "code",
   "execution_count": 171,
   "metadata": {},
   "outputs": [],
   "source": [
    "mrr_lt = mrr.pivot_table(index='data_base',columns='meses', values='valor', aggfunc=sum)"
   ]
  },
  {
   "cell_type": "code",
   "execution_count": 172,
   "metadata": {},
   "outputs": [],
   "source": [
    "for c in mrr_lt.columns:\n",
    "    if c != 1:\n",
    "        mrr_lt[c] = mrr_lt[c] / mrr_lt[1]"
   ]
  },
  {
   "cell_type": "code",
   "execution_count": 173,
   "metadata": {},
   "outputs": [],
   "source": [
    "mrr_lt[1] = 1"
   ]
  },
  {
   "cell_type": "code",
   "execution_count": 174,
   "metadata": {},
   "outputs": [],
   "source": [
    "mrr_lt = mrr_lt * 100"
   ]
  },
  {
   "cell_type": "code",
   "execution_count": 180,
   "metadata": {},
   "outputs": [
    {
     "data": {
      "application/vnd.plotly.v1+json": {
       "config": {
        "plotlyServerURL": "https://plot.ly"
       },
       "data": [
        {
         "coloraxis": "coloraxis",
         "hovertemplate": "meses: %{x}<br>data_base: %{y}<br>color: %{z}<extra></extra>",
         "name": "0",
         "texttemplate": "%{z:.1f}",
         "type": "heatmap",
         "x": [
          0,
          1,
          2,
          3,
          4,
          5,
          6,
          7,
          8,
          9,
          10,
          11,
          12,
          13,
          14,
          15,
          16,
          17,
          18,
          19,
          20,
          21,
          22,
          23,
          24,
          25,
          26,
          27,
          28,
          29,
          30,
          31,
          32,
          33,
          34,
          35
         ],
         "xaxis": "x",
         "y": [
          "2020-01-01T00:00:00",
          "2020-02-01T00:00:00",
          "2020-03-01T00:00:00",
          "2020-04-01T00:00:00",
          "2020-05-01T00:00:00",
          "2020-06-01T00:00:00",
          "2020-07-01T00:00:00",
          "2020-08-01T00:00:00",
          "2020-09-01T00:00:00",
          "2020-10-01T00:00:00",
          "2020-11-01T00:00:00",
          "2020-12-01T00:00:00",
          "2021-01-01T00:00:00",
          "2021-02-01T00:00:00",
          "2021-03-01T00:00:00",
          "2021-04-01T00:00:00",
          "2021-05-01T00:00:00",
          "2021-06-01T00:00:00",
          "2021-07-01T00:00:00",
          "2021-08-01T00:00:00",
          "2021-09-01T00:00:00",
          "2021-10-01T00:00:00",
          "2021-11-01T00:00:00",
          "2021-12-01T00:00:00",
          "2022-01-01T00:00:00",
          "2022-02-01T00:00:00",
          "2022-03-01T00:00:00",
          "2022-04-01T00:00:00",
          "2022-05-01T00:00:00",
          "2022-06-01T00:00:00",
          "2022-07-01T00:00:00",
          "2022-08-01T00:00:00",
          "2022-09-01T00:00:00",
          "2022-10-01T00:00:00"
         ],
         "yaxis": "y",
         "z": [
          [
           97.69076952847836,
           100,
           100,
           96.2781397148939,
           98.52286654195962,
           81.14558472553699,
           66.21944139843902,
           70.07030897245694,
           72.63755402180223,
           56.672902018964066,
           56.672902018964066,
           57.11797716570987,
           52.609172418241634,
           51.65168031993807,
           49.383990195446046,
           49.383990195446046,
           44.87518544797781,
           34.573953428368704,
           35.686447784299816,
           37.58627362445978,
           29.86480036122041,
           24.866154937753983,
           24.866154937753983,
           27.43339998709927,
           27.43339998709927,
           23.58253241308134,
           22.086047861704188,
           23.369670386376832,
           23.369670386376832,
           23.369670386376832,
           23.369670386376832,
           23.369670386376832,
           22.043281945429914,
           11.997677868799588,
           null,
           null
          ],
          [
           100,
           100,
           93.07223672758921,
           91.34029590948651,
           85.25674499564839,
           89.44299390774587,
           69.88685813751087,
           57.78503046127067,
           59.516971279373365,
           53.01131418624892,
           55.043516100957355,
           70.67667536988685,
           62.77415143603133,
           64.06657963446474,
           67.5384682332463,
           67.76979982593559,
           66.4721496953873,
           66.4721496953873,
           69.7184508268059,
           70.58442123585726,
           68.85248041775456,
           68.85248041775456,
           64.94908616187989,
           70.14490861618799,
           70.58006962576154,
           66.15013054830287,
           66.15013054830287,
           66.15013054830287,
           66.15013054830287,
           71.8716275021758,
           71.51044386422976,
           68.61662315056572,
           60.71409921671018,
           null,
           null,
           null
          ],
          [
           97.24694434555595,
           100,
           101.1807286104189,
           99.80420078319688,
           91.15343538625845,
           91.15343538625845,
           77.12115818203394,
           78.30188679245283,
           78.30188679245283,
           75.94042957161504,
           73.87136584786994,
           70.32158538032515,
           54.705114512875284,
           54.48558205767176,
           54.18891657766702,
           53.01412127684822,
           50.87219651121395,
           44.30402278390886,
           32.817135398125075,
           33.404533048534475,
           33.404533048534475,
           33.404533048534475,
           28.901151062062418,
           29.310549424468967,
           25.16316601400261,
           25.16316601400261,
           25.16316601400261,
           25.16316601400261,
           25.16316601400261,
           25.16316601400261,
           25.16316601400261,
           25.16316601400261,
           null,
           null,
           null,
           null
          ],
          [
           96.29300776914539,
           100,
           100,
           99.65593784683685,
           81.29855715871254,
           78.69589345172031,
           76.21531631520533,
           67.3529411764706,
           64.03440621531632,
           60.22386237513874,
           60.169256381798,
           56.021087680355166,
           46.83684794672586,
           47.21975582685904,
           43.340732519422865,
           42.51387347391787,
           43.79367369589345,
           36.847946725860155,
           34.79467258601554,
           28.357380688124305,
           26.148723640399556,
           26.148723640399556,
           24.128745837957823,
           24.128745837957823,
           24.128745837957823,
           30.382907880133185,
           30.382907880133185,
           30.382907880133185,
           30.382907880133185,
           30.826859045504996,
           29.71698113207547,
           null,
           null,
           null,
           null,
           null
          ],
          [
           97.65603036266516,
           100,
           100.41467528816419,
           95.75484959235311,
           95.11175147596289,
           93.17894292943491,
           91.78029238122014,
           84.18259769468654,
           78.90304329491144,
           79.66948973854372,
           80.54276778183863,
           81.51532190047793,
           73.23587292662356,
           78.3961554680911,
           76.02280714084903,
           75.91738122012931,
           74.83957689063817,
           79.86941242620186,
           97.07348186674164,
           83.10901040202417,
           84.43779870677537,
           86.95002811357885,
           110.73763002530221,
           109.73344813044702,
           104.49518554962047,
           105.89945881360696,
           87.36294630306438,
           88.71499859432106,
           91.6327663761597,
           92.08919032892888,
           null,
           null,
           null,
           null,
           null,
           null
          ],
          [
           98.59912300946226,
           100,
           109.25628894530348,
           109.4916916685899,
           95.44138010616201,
           93.79240710823909,
           94.54938841449342,
           85.52550196168936,
           78.84274174936533,
           77.45303484883453,
           65.80032310177705,
           64.11539349180705,
           64.56081237018232,
           62.83221786291253,
           59.05192707131318,
           60.23147934456497,
           56.6307408262174,
           44.17747519039926,
           44.17747519039926,
           40.20216939764597,
           38.704131087006694,
           66.06918993768751,
           68.03715670436188,
           70.28746826678976,
           96.47588276021233,
           95.55735056542811,
           94.06438956842834,
           98.47611354719594,
           99.80867759058388,
           null,
           null,
           null,
           null,
           null,
           null,
           null
          ],
          [
           98.50068822382825,
           100,
           117.50013087030291,
           118.97095910995876,
           117.74231791321913,
           115.46733015344157,
           92.2194679583309,
           91.57687937453233,
           84.04952748122396,
           82.87776097847876,
           87.68261026207934,
           94.9456349365202,
           90.7873465353242,
           94.8463890573951,
           92.10621125854121,
           90.88064936304654,
           92.41109287480485,
           112.64438073712313,
           109.0723912929678,
           115.6925194534856,
           118.75279061675323,
           118.75279061675323,
           117.53646662499344,
           113.85978093850942,
           100.44172576358972,
           95.20383434591022,
           95.20383434591022,
           88.0126497695143,
           null,
           null,
           null,
           null,
           null,
           null,
           null,
           null
          ],
          [
           97.80547980781716,
           100,
           99.73509933774835,
           97.34320218153486,
           93.71250486949747,
           92.4041553045059,
           81.3759252045189,
           74.51499805220101,
           72.5795351253084,
           71.96143358005453,
           75.06835475912219,
           75.93598233995586,
           65.05713543695623,
           64.89370211660824,
           61.953642384105954,
           58.58784573432022,
           60.13517724970783,
           56.78657317231528,
           53.52045188936502,
           51.19607843137255,
           51.19607843137255,
           50.42734709777951,
           48.360083106090116,
           47.580963511232305,
           40.84677314634463,
           40.20854434489027,
           37.22971042721724,
           null,
           null,
           null,
           null,
           null,
           null,
           null,
           null,
           null
          ],
          [
           96.8572493804417,
           100,
           103.09230870452004,
           104.29370353312719,
           100.63949382634823,
           99.9017479220124,
           91.09877842840537,
           87.94361471149418,
           86.17183148014122,
           78.98129262890102,
           77.61791345921881,
           72.59613571068273,
           69.68434326819747,
           58.258657367809285,
           57.829615983507686,
           62.42417264293704,
           59.86479373643002,
           61.12772770138386,
           64.99910081803627,
           66.56337039717526,
           68.2509375616817,
           60.17847665416585,
           49.89801960655306,
           43.922363313375875,
           46.79518389367722,
           46.84628374673772,
           null,
           null,
           null,
           null,
           null,
           null,
           null,
           null,
           null,
           null
          ],
          [
           93.60126016433225,
           100,
           101.56669079143428,
           96.58286857678061,
           92.22189109796075,
           78.0791008557197,
           67.95521307846226,
           59.491676955170504,
           58.21022606326366,
           52.25850398058666,
           48.85265443399038,
           45.876793392651884,
           45.876793392651884,
           43.335178168504406,
           50.112818766231,
           43.454382902635274,
           41.75997275320363,
           41.75997275320363,
           31.59351185661373,
           31.59351185661373,
           31.838605304610667,
           33.51568819447401,
           27.56396611179701,
           27.56396611179701,
           12.314274766912172,
           null,
           null,
           null,
           null,
           null,
           null,
           null,
           null,
           null,
           null,
           null
          ],
          [
           96.25384400335477,
           100,
           102.92635488637725,
           100.88581812372699,
           97.30819920923359,
           97.1085107232717,
           104.10934941491273,
           96.60545548943648,
           102.79843444227006,
           97.27505092056393,
           97.27505092056393,
           101.66420384200647,
           105.7458364950677,
           98.5334877590958,
           98.5334877590958,
           91.39262750109829,
           71.26802188585806,
           68.23675066895643,
           90.66176764247773,
           88.67686409201644,
           94.49179280322696,
           100.76388833419865,
           93.6970326290986,
           93.6970326290986,
           null,
           null,
           null,
           null,
           null,
           null,
           null,
           null,
           null,
           null,
           null,
           null
          ],
          [
           99.84679229698314,
           100,
           104.88235202689351,
           102.85876692223488,
           102.81060641385176,
           101.62755429436751,
           86.84643037153978,
           85.714602914499,
           74.61348361010639,
           64.80701380423608,
           62.36419469368452,
           48.58837975082654,
           42.61549973466202,
           40.621579193949856,
           40.621579193949856,
           36.7491989901614,
           27.672197686785726,
           25.16980520417702,
           25.16980520417702,
           25.16980520417702,
           21.190845728724668,
           21.190845728724668,
           21.190845728724668,
           null,
           null,
           null,
           null,
           null,
           null,
           null,
           null,
           null,
           null,
           null,
           null,
           null
          ],
          [
           98.00457286600802,
           100,
           106.19833456628542,
           101.76408447107816,
           99.6644035795006,
           82.64572545002751,
           73.2285980678401,
           65.43825244730043,
           62.47448372868051,
           61.906888043575,
           58.15438018988921,
           54.873078892882,
           49.89020160590183,
           49.89020160590183,
           48.97416928942565,
           45.34730581734509,
           42.98348136053707,
           41.28215342009231,
           37.346920611018945,
           37.86928373510061,
           30.22001993150915,
           30.22001993150915,
           null,
           null,
           null,
           null,
           null,
           null,
           null,
           null,
           null,
           null,
           null,
           null,
           null,
           null
          ],
          [
           98.58915802733763,
           100,
           101.10413126423994,
           100.00277408489306,
           95.86634064852952,
           90.42203987709136,
           82.20756521752313,
           77.22006375847575,
           75.02386774133402,
           71.80691459608263,
           62.63948871947939,
           60.155272959342234,
           56.721622854821376,
           52.0604022877863,
           43.318548319859566,
           43.452280434212504,
           40.50755142289333,
           42.10378715644172,
           46.15792274097779,
           47.37865652432933,
           44.690204448540726,
           null,
           null,
           null,
           null,
           null,
           null,
           null,
           null,
           null,
           null,
           null,
           null,
           null,
           null,
           null
          ],
          [
           97.32110054258368,
           100,
           103.18793043550478,
           104.2701555871443,
           98.38014300653923,
           91.78570092267763,
           74.08880545983382,
           70.43384601343818,
           62.896308212500415,
           60.56960130107283,
           60.152590493254976,
           57.48087456023118,
           52.47864344859799,
           48.85607092747738,
           43.78530210939142,
           39.07992709000311,
           38.22464357450397,
           35.81791864097933,
           34.2424285153276,
           37.5721641649608,
           null,
           null,
           null,
           null,
           null,
           null,
           null,
           null,
           null,
           null,
           null,
           null,
           null,
           null,
           null,
           null
          ],
          [
           98.36832258175644,
           100,
           97.88853502472833,
           98.52462269111525,
           94.3124221835968,
           85.67604892468232,
           74.99632161558061,
           72.13505791598187,
           67.25815789401018,
           61.38753525364942,
           57.177149284289605,
           55.75181641186649,
           52.26685124113752,
           41.951727762473276,
           36.16058978275639,
           35.63463669330137,
           37.72484001493181,
           31.077542447372807,
           27.471384536006155,
           null,
           null,
           null,
           null,
           null,
           null,
           null,
           null,
           null,
           null,
           null,
           null,
           null,
           null,
           null,
           null,
           null
          ],
          [
           98.98098156446102,
           100,
           100.28385611530737,
           98.38942061142623,
           93.00352997915456,
           90.1192641900169,
           85.58289494247876,
           80.11399949248359,
           77.49551374339488,
           71.4107753986457,
           67.44655887953893,
           66.0839433873352,
           41.180960141766676,
           38.78742351377891,
           35.28623178163927,
           28.528790509118235,
           27.25404272127136,
           27.25404272127136,
           null,
           null,
           null,
           null,
           null,
           null,
           null,
           null,
           null,
           null,
           null,
           null,
           null,
           null,
           null,
           null,
           null,
           null
          ],
          [
           101.37938288105349,
           100,
           98.20370130966414,
           95.00564942982905,
           76.86331692102489,
           70.37605106461656,
           56.79351661495953,
           47.94550345676882,
           44.83331153979158,
           42.57279805098996,
           51.83159681239171,
           46.34250400626269,
           39.61410847152457,
           41.59080330665292,
           46.28647936085681,
           34.5010716737267,
           34.279840446555845,
           null,
           null,
           null,
           null,
           null,
           null,
           null,
           null,
           null,
           null,
           null,
           null,
           null,
           null,
           null,
           null,
           null,
           null,
           null
          ],
          [
           99.33469624392012,
           100,
           101.85242928592757,
           98.0519202133997,
           94.65261981424736,
           88.99206680355594,
           81.88100354885168,
           74.01521734037021,
           61.021654525595956,
           55.399648355110486,
           50.1024800087338,
           55.94993472087003,
           48.74623691613314,
           47.03923377904598,
           45.65806547454364,
           43.5324434035676,
           null,
           null,
           null,
           null,
           null,
           null,
           null,
           null,
           null,
           null,
           null,
           null,
           null,
           null,
           null,
           null,
           null,
           null,
           null,
           null
          ],
          [
           95.569853673385,
           100,
           100.41231206059138,
           97.71449087882327,
           95.00778153287474,
           84.23405367331914,
           74.39608490632808,
           68.76252504185393,
           60.23548368017839,
           54.47852098314508,
           49.2931660002921,
           49.62016265779372,
           44.73287939320833,
           43.85486044868989,
           42.192038553125386,
           null,
           null,
           null,
           null,
           null,
           null,
           null,
           null,
           null,
           null,
           null,
           null,
           null,
           null,
           null,
           null,
           null,
           null,
           null,
           null,
           null
          ],
          [
           100.72570471221098,
           100,
           98.58308690693661,
           93.63584065884157,
           81.43913688523763,
           76.77545088461189,
           71.07601707659235,
           58.90954048625899,
           57.17514608964201,
           58.24808493888961,
           51.1822916141013,
           46.37743104266121,
           43.27800934570007,
           41.09902808756296,
           null,
           null,
           null,
           null,
           null,
           null,
           null,
           null,
           null,
           null,
           null,
           null,
           null,
           null,
           null,
           null,
           null,
           null,
           null,
           null,
           null,
           null
          ],
          [
           96.78095358913306,
           100,
           97.34971045485216,
           97.61482479521338,
           93.7287145282798,
           88.34543314671589,
           88.3991303887182,
           84.45056647410127,
           79.78524936849325,
           74.32476349863104,
           69.25206877707951,
           68.20048108825482,
           62.67297604177703,
           null,
           null,
           null,
           null,
           null,
           null,
           null,
           null,
           null,
           null,
           null,
           null,
           null,
           null,
           null,
           null,
           null,
           null,
           null,
           null,
           null,
           null,
           null
          ],
          [
           99.8688130753157,
           100,
           106.35740790430417,
           100.21826023003592,
           101.00114142078387,
           94.95056855545623,
           92.65444980320571,
           95.82860058475224,
           88.21952260527557,
           76.55193603594711,
           68.06802367370659,
           64.53105123324886,
           null,
           null,
           null,
           null,
           null,
           null,
           null,
           null,
           null,
           null,
           null,
           null,
           null,
           null,
           null,
           null,
           null,
           null,
           null,
           null,
           null,
           null,
           null,
           null
          ],
          [
           98.84190928663583,
           100,
           99.07637606136696,
           98.74971526916556,
           96.61334712254805,
           96.05512113622508,
           83.57151533141187,
           76.13941311190389,
           65.29690529484455,
           62.590016508299314,
           59.01532214586924,
           null,
           null,
           null,
           null,
           null,
           null,
           null,
           null,
           null,
           null,
           null,
           null,
           null,
           null,
           null,
           null,
           null,
           null,
           null,
           null,
           null,
           null,
           null,
           null,
           null
          ],
          [
           98.90011138044854,
           100,
           101.1256686528889,
           99.1194646744856,
           99.82296521051404,
           98.22978591154184,
           84.18880225965115,
           74.42711681281003,
           65.98328169298281,
           60.914454356227964,
           null,
           null,
           null,
           null,
           null,
           null,
           null,
           null,
           null,
           null,
           null,
           null,
           null,
           null,
           null,
           null,
           null,
           null,
           null,
           null,
           null,
           null,
           null,
           null,
           null,
           null
          ],
          [
           99.08443602941918,
           100,
           99.99466084594185,
           99.62541796266406,
           88.97298679681043,
           76.51422783606105,
           71.50144639478108,
           60.315615791781966,
           55.723909651642636,
           null,
           null,
           null,
           null,
           null,
           null,
           null,
           null,
           null,
           null,
           null,
           null,
           null,
           null,
           null,
           null,
           null,
           null,
           null,
           null,
           null,
           null,
           null,
           null,
           null,
           null,
           null
          ],
          [
           99.56997000984745,
           100,
           99.5347183593082,
           99.82551745462392,
           89.40956573533391,
           90.66427280731992,
           79.59844309070351,
           71.38065490402109,
           null,
           null,
           null,
           null,
           null,
           null,
           null,
           null,
           null,
           null,
           null,
           null,
           null,
           null,
           null,
           null,
           null,
           null,
           null,
           null,
           null,
           null,
           null,
           null,
           null,
           null,
           null,
           null
          ],
          [
           98.36392646016088,
           100,
           100.2880544973942,
           96.57367061875149,
           93.43369918668448,
           82.83013713344623,
           76.91470977101253,
           null,
           null,
           null,
           null,
           null,
           null,
           null,
           null,
           null,
           null,
           null,
           null,
           null,
           null,
           null,
           null,
           null,
           null,
           null,
           null,
           null,
           null,
           null,
           null,
           null,
           null,
           null,
           null,
           null
          ],
          [
           91.26974335962701,
           100,
           100.40820431939808,
           99.63187955681715,
           99.79042545496816,
           90.36897464897817,
           null,
           null,
           null,
           null,
           null,
           null,
           null,
           null,
           null,
           null,
           null,
           null,
           null,
           null,
           null,
           null,
           null,
           null,
           null,
           null,
           null,
           null,
           null,
           null,
           null,
           null,
           null,
           null,
           null,
           null
          ],
          [
           98.5533243057693,
           100,
           100.20568787887443,
           95.16424859972726,
           90.84201880639084,
           null,
           null,
           null,
           null,
           null,
           null,
           null,
           null,
           null,
           null,
           null,
           null,
           null,
           null,
           null,
           null,
           null,
           null,
           null,
           null,
           null,
           null,
           null,
           null,
           null,
           null,
           null,
           null,
           null,
           null,
           null
          ],
          [
           98.27780077985203,
           100,
           99.049336403776,
           96.55018208283511,
           null,
           null,
           null,
           null,
           null,
           null,
           null,
           null,
           null,
           null,
           null,
           null,
           null,
           null,
           null,
           null,
           null,
           null,
           null,
           null,
           null,
           null,
           null,
           null,
           null,
           null,
           null,
           null,
           null,
           null,
           null,
           null
          ],
          [
           91.76608252606596,
           100,
           103.55536956952749,
           null,
           null,
           null,
           null,
           null,
           null,
           null,
           null,
           null,
           null,
           null,
           null,
           null,
           null,
           null,
           null,
           null,
           null,
           null,
           null,
           null,
           null,
           null,
           null,
           null,
           null,
           null,
           null,
           null,
           null,
           null,
           null,
           null
          ],
          [
           99.51981191163424,
           100,
           null,
           null,
           null,
           null,
           null,
           null,
           null,
           null,
           null,
           null,
           null,
           null,
           null,
           null,
           null,
           null,
           null,
           null,
           null,
           null,
           null,
           null,
           null,
           null,
           null,
           null,
           null,
           null,
           null,
           null,
           null,
           null,
           null,
           null
          ],
          [
           null,
           100,
           null,
           null,
           null,
           null,
           null,
           null,
           null,
           null,
           null,
           null,
           null,
           null,
           null,
           null,
           null,
           null,
           null,
           null,
           null,
           null,
           null,
           null,
           null,
           null,
           null,
           null,
           null,
           null,
           null,
           null,
           null,
           null,
           null,
           null
          ]
         ]
        }
       ],
       "layout": {
        "coloraxis": {
         "colorscale": [
          [
           0,
           "rgb(207, 89, 126)"
          ],
          [
           0.16666666666666666,
           "rgb(232, 132, 113)"
          ],
          [
           0.3333333333333333,
           "rgb(238, 180, 121)"
          ],
          [
           0.5,
           "rgb(233, 226, 156)"
          ],
          [
           0.6666666666666666,
           "rgb(156, 203, 134)"
          ],
          [
           0.8333333333333334,
           "rgb(57, 177, 133)"
          ],
          [
           1,
           "rgb(0, 147, 146)"
          ]
         ]
        },
        "margin": {
         "t": 60
        },
        "template": {
         "data": {
          "bar": [
           {
            "error_x": {
             "color": "#2a3f5f"
            },
            "error_y": {
             "color": "#2a3f5f"
            },
            "marker": {
             "line": {
              "color": "#E5ECF6",
              "width": 0.5
             },
             "pattern": {
              "fillmode": "overlay",
              "size": 10,
              "solidity": 0.2
             }
            },
            "type": "bar"
           }
          ],
          "barpolar": [
           {
            "marker": {
             "line": {
              "color": "#E5ECF6",
              "width": 0.5
             },
             "pattern": {
              "fillmode": "overlay",
              "size": 10,
              "solidity": 0.2
             }
            },
            "type": "barpolar"
           }
          ],
          "carpet": [
           {
            "aaxis": {
             "endlinecolor": "#2a3f5f",
             "gridcolor": "white",
             "linecolor": "white",
             "minorgridcolor": "white",
             "startlinecolor": "#2a3f5f"
            },
            "baxis": {
             "endlinecolor": "#2a3f5f",
             "gridcolor": "white",
             "linecolor": "white",
             "minorgridcolor": "white",
             "startlinecolor": "#2a3f5f"
            },
            "type": "carpet"
           }
          ],
          "choropleth": [
           {
            "colorbar": {
             "outlinewidth": 0,
             "ticks": ""
            },
            "type": "choropleth"
           }
          ],
          "contour": [
           {
            "colorbar": {
             "outlinewidth": 0,
             "ticks": ""
            },
            "colorscale": [
             [
              0,
              "#0d0887"
             ],
             [
              0.1111111111111111,
              "#46039f"
             ],
             [
              0.2222222222222222,
              "#7201a8"
             ],
             [
              0.3333333333333333,
              "#9c179e"
             ],
             [
              0.4444444444444444,
              "#bd3786"
             ],
             [
              0.5555555555555556,
              "#d8576b"
             ],
             [
              0.6666666666666666,
              "#ed7953"
             ],
             [
              0.7777777777777778,
              "#fb9f3a"
             ],
             [
              0.8888888888888888,
              "#fdca26"
             ],
             [
              1,
              "#f0f921"
             ]
            ],
            "type": "contour"
           }
          ],
          "contourcarpet": [
           {
            "colorbar": {
             "outlinewidth": 0,
             "ticks": ""
            },
            "type": "contourcarpet"
           }
          ],
          "heatmap": [
           {
            "colorbar": {
             "outlinewidth": 0,
             "ticks": ""
            },
            "colorscale": [
             [
              0,
              "#0d0887"
             ],
             [
              0.1111111111111111,
              "#46039f"
             ],
             [
              0.2222222222222222,
              "#7201a8"
             ],
             [
              0.3333333333333333,
              "#9c179e"
             ],
             [
              0.4444444444444444,
              "#bd3786"
             ],
             [
              0.5555555555555556,
              "#d8576b"
             ],
             [
              0.6666666666666666,
              "#ed7953"
             ],
             [
              0.7777777777777778,
              "#fb9f3a"
             ],
             [
              0.8888888888888888,
              "#fdca26"
             ],
             [
              1,
              "#f0f921"
             ]
            ],
            "type": "heatmap"
           }
          ],
          "heatmapgl": [
           {
            "colorbar": {
             "outlinewidth": 0,
             "ticks": ""
            },
            "colorscale": [
             [
              0,
              "#0d0887"
             ],
             [
              0.1111111111111111,
              "#46039f"
             ],
             [
              0.2222222222222222,
              "#7201a8"
             ],
             [
              0.3333333333333333,
              "#9c179e"
             ],
             [
              0.4444444444444444,
              "#bd3786"
             ],
             [
              0.5555555555555556,
              "#d8576b"
             ],
             [
              0.6666666666666666,
              "#ed7953"
             ],
             [
              0.7777777777777778,
              "#fb9f3a"
             ],
             [
              0.8888888888888888,
              "#fdca26"
             ],
             [
              1,
              "#f0f921"
             ]
            ],
            "type": "heatmapgl"
           }
          ],
          "histogram": [
           {
            "marker": {
             "pattern": {
              "fillmode": "overlay",
              "size": 10,
              "solidity": 0.2
             }
            },
            "type": "histogram"
           }
          ],
          "histogram2d": [
           {
            "colorbar": {
             "outlinewidth": 0,
             "ticks": ""
            },
            "colorscale": [
             [
              0,
              "#0d0887"
             ],
             [
              0.1111111111111111,
              "#46039f"
             ],
             [
              0.2222222222222222,
              "#7201a8"
             ],
             [
              0.3333333333333333,
              "#9c179e"
             ],
             [
              0.4444444444444444,
              "#bd3786"
             ],
             [
              0.5555555555555556,
              "#d8576b"
             ],
             [
              0.6666666666666666,
              "#ed7953"
             ],
             [
              0.7777777777777778,
              "#fb9f3a"
             ],
             [
              0.8888888888888888,
              "#fdca26"
             ],
             [
              1,
              "#f0f921"
             ]
            ],
            "type": "histogram2d"
           }
          ],
          "histogram2dcontour": [
           {
            "colorbar": {
             "outlinewidth": 0,
             "ticks": ""
            },
            "colorscale": [
             [
              0,
              "#0d0887"
             ],
             [
              0.1111111111111111,
              "#46039f"
             ],
             [
              0.2222222222222222,
              "#7201a8"
             ],
             [
              0.3333333333333333,
              "#9c179e"
             ],
             [
              0.4444444444444444,
              "#bd3786"
             ],
             [
              0.5555555555555556,
              "#d8576b"
             ],
             [
              0.6666666666666666,
              "#ed7953"
             ],
             [
              0.7777777777777778,
              "#fb9f3a"
             ],
             [
              0.8888888888888888,
              "#fdca26"
             ],
             [
              1,
              "#f0f921"
             ]
            ],
            "type": "histogram2dcontour"
           }
          ],
          "mesh3d": [
           {
            "colorbar": {
             "outlinewidth": 0,
             "ticks": ""
            },
            "type": "mesh3d"
           }
          ],
          "parcoords": [
           {
            "line": {
             "colorbar": {
              "outlinewidth": 0,
              "ticks": ""
             }
            },
            "type": "parcoords"
           }
          ],
          "pie": [
           {
            "automargin": true,
            "type": "pie"
           }
          ],
          "scatter": [
           {
            "fillpattern": {
             "fillmode": "overlay",
             "size": 10,
             "solidity": 0.2
            },
            "type": "scatter"
           }
          ],
          "scatter3d": [
           {
            "line": {
             "colorbar": {
              "outlinewidth": 0,
              "ticks": ""
             }
            },
            "marker": {
             "colorbar": {
              "outlinewidth": 0,
              "ticks": ""
             }
            },
            "type": "scatter3d"
           }
          ],
          "scattercarpet": [
           {
            "marker": {
             "colorbar": {
              "outlinewidth": 0,
              "ticks": ""
             }
            },
            "type": "scattercarpet"
           }
          ],
          "scattergeo": [
           {
            "marker": {
             "colorbar": {
              "outlinewidth": 0,
              "ticks": ""
             }
            },
            "type": "scattergeo"
           }
          ],
          "scattergl": [
           {
            "marker": {
             "colorbar": {
              "outlinewidth": 0,
              "ticks": ""
             }
            },
            "type": "scattergl"
           }
          ],
          "scattermapbox": [
           {
            "marker": {
             "colorbar": {
              "outlinewidth": 0,
              "ticks": ""
             }
            },
            "type": "scattermapbox"
           }
          ],
          "scatterpolar": [
           {
            "marker": {
             "colorbar": {
              "outlinewidth": 0,
              "ticks": ""
             }
            },
            "type": "scatterpolar"
           }
          ],
          "scatterpolargl": [
           {
            "marker": {
             "colorbar": {
              "outlinewidth": 0,
              "ticks": ""
             }
            },
            "type": "scatterpolargl"
           }
          ],
          "scatterternary": [
           {
            "marker": {
             "colorbar": {
              "outlinewidth": 0,
              "ticks": ""
             }
            },
            "type": "scatterternary"
           }
          ],
          "surface": [
           {
            "colorbar": {
             "outlinewidth": 0,
             "ticks": ""
            },
            "colorscale": [
             [
              0,
              "#0d0887"
             ],
             [
              0.1111111111111111,
              "#46039f"
             ],
             [
              0.2222222222222222,
              "#7201a8"
             ],
             [
              0.3333333333333333,
              "#9c179e"
             ],
             [
              0.4444444444444444,
              "#bd3786"
             ],
             [
              0.5555555555555556,
              "#d8576b"
             ],
             [
              0.6666666666666666,
              "#ed7953"
             ],
             [
              0.7777777777777778,
              "#fb9f3a"
             ],
             [
              0.8888888888888888,
              "#fdca26"
             ],
             [
              1,
              "#f0f921"
             ]
            ],
            "type": "surface"
           }
          ],
          "table": [
           {
            "cells": {
             "fill": {
              "color": "#EBF0F8"
             },
             "line": {
              "color": "white"
             }
            },
            "header": {
             "fill": {
              "color": "#C8D4E3"
             },
             "line": {
              "color": "white"
             }
            },
            "type": "table"
           }
          ]
         },
         "layout": {
          "annotationdefaults": {
           "arrowcolor": "#2a3f5f",
           "arrowhead": 0,
           "arrowwidth": 1
          },
          "autotypenumbers": "strict",
          "coloraxis": {
           "colorbar": {
            "outlinewidth": 0,
            "ticks": ""
           }
          },
          "colorscale": {
           "diverging": [
            [
             0,
             "#8e0152"
            ],
            [
             0.1,
             "#c51b7d"
            ],
            [
             0.2,
             "#de77ae"
            ],
            [
             0.3,
             "#f1b6da"
            ],
            [
             0.4,
             "#fde0ef"
            ],
            [
             0.5,
             "#f7f7f7"
            ],
            [
             0.6,
             "#e6f5d0"
            ],
            [
             0.7,
             "#b8e186"
            ],
            [
             0.8,
             "#7fbc41"
            ],
            [
             0.9,
             "#4d9221"
            ],
            [
             1,
             "#276419"
            ]
           ],
           "sequential": [
            [
             0,
             "#0d0887"
            ],
            [
             0.1111111111111111,
             "#46039f"
            ],
            [
             0.2222222222222222,
             "#7201a8"
            ],
            [
             0.3333333333333333,
             "#9c179e"
            ],
            [
             0.4444444444444444,
             "#bd3786"
            ],
            [
             0.5555555555555556,
             "#d8576b"
            ],
            [
             0.6666666666666666,
             "#ed7953"
            ],
            [
             0.7777777777777778,
             "#fb9f3a"
            ],
            [
             0.8888888888888888,
             "#fdca26"
            ],
            [
             1,
             "#f0f921"
            ]
           ],
           "sequentialminus": [
            [
             0,
             "#0d0887"
            ],
            [
             0.1111111111111111,
             "#46039f"
            ],
            [
             0.2222222222222222,
             "#7201a8"
            ],
            [
             0.3333333333333333,
             "#9c179e"
            ],
            [
             0.4444444444444444,
             "#bd3786"
            ],
            [
             0.5555555555555556,
             "#d8576b"
            ],
            [
             0.6666666666666666,
             "#ed7953"
            ],
            [
             0.7777777777777778,
             "#fb9f3a"
            ],
            [
             0.8888888888888888,
             "#fdca26"
            ],
            [
             1,
             "#f0f921"
            ]
           ]
          },
          "colorway": [
           "#636efa",
           "#EF553B",
           "#00cc96",
           "#ab63fa",
           "#FFA15A",
           "#19d3f3",
           "#FF6692",
           "#B6E880",
           "#FF97FF",
           "#FECB52"
          ],
          "font": {
           "color": "#2a3f5f"
          },
          "geo": {
           "bgcolor": "white",
           "lakecolor": "white",
           "landcolor": "#E5ECF6",
           "showlakes": true,
           "showland": true,
           "subunitcolor": "white"
          },
          "hoverlabel": {
           "align": "left"
          },
          "hovermode": "closest",
          "mapbox": {
           "style": "light"
          },
          "paper_bgcolor": "white",
          "plot_bgcolor": "#E5ECF6",
          "polar": {
           "angularaxis": {
            "gridcolor": "white",
            "linecolor": "white",
            "ticks": ""
           },
           "bgcolor": "#E5ECF6",
           "radialaxis": {
            "gridcolor": "white",
            "linecolor": "white",
            "ticks": ""
           }
          },
          "scene": {
           "xaxis": {
            "backgroundcolor": "#E5ECF6",
            "gridcolor": "white",
            "gridwidth": 2,
            "linecolor": "white",
            "showbackground": true,
            "ticks": "",
            "zerolinecolor": "white"
           },
           "yaxis": {
            "backgroundcolor": "#E5ECF6",
            "gridcolor": "white",
            "gridwidth": 2,
            "linecolor": "white",
            "showbackground": true,
            "ticks": "",
            "zerolinecolor": "white"
           },
           "zaxis": {
            "backgroundcolor": "#E5ECF6",
            "gridcolor": "white",
            "gridwidth": 2,
            "linecolor": "white",
            "showbackground": true,
            "ticks": "",
            "zerolinecolor": "white"
           }
          },
          "shapedefaults": {
           "line": {
            "color": "#2a3f5f"
           }
          },
          "ternary": {
           "aaxis": {
            "gridcolor": "white",
            "linecolor": "white",
            "ticks": ""
           },
           "baxis": {
            "gridcolor": "white",
            "linecolor": "white",
            "ticks": ""
           },
           "bgcolor": "#E5ECF6",
           "caxis": {
            "gridcolor": "white",
            "linecolor": "white",
            "ticks": ""
           }
          },
          "title": {
           "x": 0.05
          },
          "xaxis": {
           "automargin": true,
           "gridcolor": "white",
           "linecolor": "white",
           "ticks": "",
           "title": {
            "standoff": 15
           },
           "zerolinecolor": "white",
           "zerolinewidth": 2
          },
          "yaxis": {
           "automargin": true,
           "gridcolor": "white",
           "linecolor": "white",
           "ticks": "",
           "title": {
            "standoff": 15
           },
           "zerolinecolor": "white",
           "zerolinewidth": 2
          }
         }
        },
        "xaxis": {
         "anchor": "y",
         "constrain": "domain",
         "domain": [
          0,
          1
         ],
         "scaleanchor": "y",
         "title": {
          "text": "meses"
         }
        },
        "yaxis": {
         "anchor": "x",
         "autorange": "reversed",
         "constrain": "domain",
         "domain": [
          0,
          1
         ],
         "title": {
          "text": "data_base"
         }
        }
       }
      },
      "text/html": [
       "<div>                            <div id=\"ac7520a6-9363-4867-a807-dd5161cda866\" class=\"plotly-graph-div\" style=\"height:525px; width:100%;\"></div>            <script type=\"text/javascript\">                require([\"plotly\"], function(Plotly) {                    window.PLOTLYENV=window.PLOTLYENV || {};                                    if (document.getElementById(\"ac7520a6-9363-4867-a807-dd5161cda866\")) {                    Plotly.newPlot(                        \"ac7520a6-9363-4867-a807-dd5161cda866\",                        [{\"coloraxis\":\"coloraxis\",\"name\":\"0\",\"texttemplate\":\"%{z:.1f}\",\"x\":[0,1,2,3,4,5,6,7,8,9,10,11,12,13,14,15,16,17,18,19,20,21,22,23,24,25,26,27,28,29,30,31,32,33,34,35],\"y\":[\"2020-01-01T00:00:00\",\"2020-02-01T00:00:00\",\"2020-03-01T00:00:00\",\"2020-04-01T00:00:00\",\"2020-05-01T00:00:00\",\"2020-06-01T00:00:00\",\"2020-07-01T00:00:00\",\"2020-08-01T00:00:00\",\"2020-09-01T00:00:00\",\"2020-10-01T00:00:00\",\"2020-11-01T00:00:00\",\"2020-12-01T00:00:00\",\"2021-01-01T00:00:00\",\"2021-02-01T00:00:00\",\"2021-03-01T00:00:00\",\"2021-04-01T00:00:00\",\"2021-05-01T00:00:00\",\"2021-06-01T00:00:00\",\"2021-07-01T00:00:00\",\"2021-08-01T00:00:00\",\"2021-09-01T00:00:00\",\"2021-10-01T00:00:00\",\"2021-11-01T00:00:00\",\"2021-12-01T00:00:00\",\"2022-01-01T00:00:00\",\"2022-02-01T00:00:00\",\"2022-03-01T00:00:00\",\"2022-04-01T00:00:00\",\"2022-05-01T00:00:00\",\"2022-06-01T00:00:00\",\"2022-07-01T00:00:00\",\"2022-08-01T00:00:00\",\"2022-09-01T00:00:00\",\"2022-10-01T00:00:00\"],\"z\":[[97.69076952847836,100.0,100.0,96.2781397148939,98.52286654195962,81.14558472553699,66.21944139843902,70.07030897245694,72.63755402180223,56.672902018964066,56.672902018964066,57.11797716570987,52.609172418241634,51.65168031993807,49.383990195446046,49.383990195446046,44.87518544797781,34.573953428368704,35.686447784299816,37.58627362445978,29.86480036122041,24.866154937753983,24.866154937753983,27.43339998709927,27.43339998709927,23.58253241308134,22.086047861704188,23.369670386376832,23.369670386376832,23.369670386376832,23.369670386376832,23.369670386376832,22.043281945429914,11.997677868799588,null,null],[100.0,100.0,93.07223672758921,91.34029590948651,85.25674499564839,89.44299390774587,69.88685813751087,57.78503046127067,59.516971279373365,53.01131418624892,55.043516100957355,70.67667536988685,62.77415143603133,64.06657963446474,67.5384682332463,67.76979982593559,66.4721496953873,66.4721496953873,69.7184508268059,70.58442123585726,68.85248041775456,68.85248041775456,64.94908616187989,70.14490861618799,70.58006962576154,66.15013054830287,66.15013054830287,66.15013054830287,66.15013054830287,71.8716275021758,71.51044386422976,68.61662315056572,60.71409921671018,null,null,null],[97.24694434555595,100.0,101.1807286104189,99.80420078319688,91.15343538625845,91.15343538625845,77.12115818203394,78.30188679245283,78.30188679245283,75.94042957161504,73.87136584786994,70.32158538032515,54.705114512875284,54.48558205767176,54.18891657766702,53.01412127684822,50.87219651121395,44.30402278390886,32.817135398125075,33.404533048534475,33.404533048534475,33.404533048534475,28.901151062062418,29.310549424468967,25.16316601400261,25.16316601400261,25.16316601400261,25.16316601400261,25.16316601400261,25.16316601400261,25.16316601400261,25.16316601400261,null,null,null,null],[96.29300776914539,100.0,100.0,99.65593784683685,81.29855715871254,78.69589345172031,76.21531631520533,67.3529411764706,64.03440621531632,60.22386237513874,60.169256381798,56.021087680355166,46.83684794672586,47.21975582685904,43.340732519422865,42.51387347391787,43.79367369589345,36.847946725860155,34.79467258601554,28.357380688124305,26.148723640399556,26.148723640399556,24.128745837957823,24.128745837957823,24.128745837957823,30.382907880133185,30.382907880133185,30.382907880133185,30.382907880133185,30.826859045504996,29.71698113207547,null,null,null,null,null],[97.65603036266516,100.0,100.41467528816419,95.75484959235311,95.11175147596289,93.17894292943491,91.78029238122014,84.18259769468654,78.90304329491144,79.66948973854372,80.54276778183863,81.51532190047793,73.23587292662356,78.3961554680911,76.02280714084903,75.91738122012931,74.83957689063817,79.86941242620186,97.07348186674164,83.10901040202417,84.43779870677537,86.95002811357885,110.73763002530221,109.73344813044702,104.49518554962047,105.89945881360696,87.36294630306438,88.71499859432106,91.6327663761597,92.08919032892888,null,null,null,null,null,null],[98.59912300946226,100.0,109.25628894530348,109.4916916685899,95.44138010616201,93.79240710823909,94.54938841449342,85.52550196168936,78.84274174936533,77.45303484883453,65.80032310177705,64.11539349180705,64.56081237018232,62.83221786291253,59.05192707131318,60.23147934456497,56.6307408262174,44.17747519039926,44.17747519039926,40.20216939764597,38.704131087006694,66.06918993768751,68.03715670436188,70.28746826678976,96.47588276021233,95.55735056542811,94.06438956842834,98.47611354719594,99.80867759058388,null,null,null,null,null,null,null],[98.50068822382825,100.0,117.50013087030291,118.97095910995876,117.74231791321913,115.46733015344157,92.2194679583309,91.57687937453233,84.04952748122396,82.87776097847876,87.68261026207934,94.9456349365202,90.7873465353242,94.8463890573951,92.10621125854121,90.88064936304654,92.41109287480485,112.64438073712313,109.0723912929678,115.6925194534856,118.75279061675323,118.75279061675323,117.53646662499344,113.85978093850942,100.44172576358972,95.20383434591022,95.20383434591022,88.0126497695143,null,null,null,null,null,null,null,null],[97.80547980781716,100.0,99.73509933774835,97.34320218153486,93.71250486949747,92.4041553045059,81.3759252045189,74.51499805220101,72.5795351253084,71.96143358005453,75.06835475912219,75.93598233995586,65.05713543695623,64.89370211660824,61.953642384105954,58.58784573432022,60.13517724970783,56.78657317231528,53.52045188936502,51.19607843137255,51.19607843137255,50.42734709777951,48.360083106090116,47.580963511232305,40.84677314634463,40.20854434489027,37.22971042721724,null,null,null,null,null,null,null,null,null],[96.8572493804417,100.0,103.09230870452004,104.29370353312719,100.63949382634823,99.9017479220124,91.09877842840537,87.94361471149418,86.17183148014122,78.98129262890102,77.61791345921881,72.59613571068273,69.68434326819747,58.258657367809285,57.829615983507686,62.42417264293704,59.86479373643002,61.12772770138386,64.99910081803627,66.56337039717526,68.2509375616817,60.17847665416585,49.89801960655306,43.922363313375875,46.79518389367722,46.84628374673772,null,null,null,null,null,null,null,null,null,null],[93.60126016433225,100.0,101.56669079143428,96.58286857678061,92.22189109796075,78.0791008557197,67.95521307846226,59.491676955170504,58.21022606326366,52.25850398058666,48.85265443399038,45.876793392651884,45.876793392651884,43.335178168504406,50.112818766231,43.454382902635274,41.75997275320363,41.75997275320363,31.59351185661373,31.59351185661373,31.838605304610667,33.51568819447401,27.56396611179701,27.56396611179701,12.314274766912172,null,null,null,null,null,null,null,null,null,null,null],[96.25384400335477,100.0,102.92635488637725,100.88581812372699,97.30819920923359,97.1085107232717,104.10934941491273,96.60545548943648,102.79843444227006,97.27505092056393,97.27505092056393,101.66420384200647,105.7458364950677,98.5334877590958,98.5334877590958,91.39262750109829,71.26802188585806,68.23675066895643,90.66176764247773,88.67686409201644,94.49179280322696,100.76388833419865,93.6970326290986,93.6970326290986,null,null,null,null,null,null,null,null,null,null,null,null],[99.84679229698314,100.0,104.88235202689351,102.85876692223488,102.81060641385176,101.62755429436751,86.84643037153978,85.714602914499,74.61348361010639,64.80701380423608,62.36419469368452,48.58837975082654,42.61549973466202,40.621579193949856,40.621579193949856,36.7491989901614,27.672197686785726,25.16980520417702,25.16980520417702,25.16980520417702,21.190845728724668,21.190845728724668,21.190845728724668,null,null,null,null,null,null,null,null,null,null,null,null,null],[98.00457286600802,100.0,106.19833456628542,101.76408447107816,99.6644035795006,82.64572545002751,73.2285980678401,65.43825244730043,62.47448372868051,61.906888043575,58.15438018988921,54.873078892882,49.89020160590183,49.89020160590183,48.97416928942565,45.34730581734509,42.98348136053707,41.28215342009231,37.346920611018945,37.86928373510061,30.22001993150915,30.22001993150915,null,null,null,null,null,null,null,null,null,null,null,null,null,null],[98.58915802733763,100.0,101.10413126423994,100.00277408489306,95.86634064852952,90.42203987709136,82.20756521752313,77.22006375847575,75.02386774133402,71.80691459608263,62.63948871947939,60.155272959342234,56.721622854821376,52.0604022877863,43.318548319859566,43.452280434212504,40.50755142289333,42.10378715644172,46.15792274097779,47.37865652432933,44.690204448540726,null,null,null,null,null,null,null,null,null,null,null,null,null,null,null],[97.32110054258368,100.0,103.18793043550478,104.2701555871443,98.38014300653923,91.78570092267763,74.08880545983382,70.43384601343818,62.896308212500415,60.56960130107283,60.152590493254976,57.48087456023118,52.47864344859799,48.85607092747738,43.78530210939142,39.07992709000311,38.22464357450397,35.81791864097933,34.2424285153276,37.5721641649608,null,null,null,null,null,null,null,null,null,null,null,null,null,null,null,null],[98.36832258175644,100.0,97.88853502472833,98.52462269111525,94.3124221835968,85.67604892468232,74.99632161558061,72.13505791598187,67.25815789401018,61.38753525364942,57.177149284289605,55.75181641186649,52.26685124113752,41.951727762473276,36.16058978275639,35.63463669330137,37.72484001493181,31.077542447372807,27.471384536006155,null,null,null,null,null,null,null,null,null,null,null,null,null,null,null,null,null],[98.98098156446102,100.0,100.28385611530737,98.38942061142623,93.00352997915456,90.1192641900169,85.58289494247876,80.11399949248359,77.49551374339488,71.4107753986457,67.44655887953893,66.0839433873352,41.180960141766676,38.78742351377891,35.28623178163927,28.528790509118235,27.25404272127136,27.25404272127136,null,null,null,null,null,null,null,null,null,null,null,null,null,null,null,null,null,null],[101.37938288105349,100.0,98.20370130966414,95.00564942982905,76.86331692102489,70.37605106461656,56.79351661495953,47.94550345676882,44.83331153979158,42.57279805098996,51.83159681239171,46.34250400626269,39.61410847152457,41.59080330665292,46.28647936085681,34.5010716737267,34.279840446555845,null,null,null,null,null,null,null,null,null,null,null,null,null,null,null,null,null,null,null],[99.33469624392012,100.0,101.85242928592757,98.0519202133997,94.65261981424736,88.99206680355594,81.88100354885168,74.01521734037021,61.021654525595956,55.399648355110486,50.1024800087338,55.94993472087003,48.74623691613314,47.03923377904598,45.65806547454364,43.5324434035676,null,null,null,null,null,null,null,null,null,null,null,null,null,null,null,null,null,null,null,null],[95.569853673385,100.0,100.41231206059138,97.71449087882327,95.00778153287474,84.23405367331914,74.39608490632808,68.76252504185393,60.23548368017839,54.47852098314508,49.2931660002921,49.62016265779372,44.73287939320833,43.85486044868989,42.192038553125386,null,null,null,null,null,null,null,null,null,null,null,null,null,null,null,null,null,null,null,null,null],[100.72570471221098,100.0,98.58308690693661,93.63584065884157,81.43913688523763,76.77545088461189,71.07601707659235,58.90954048625899,57.17514608964201,58.24808493888961,51.1822916141013,46.37743104266121,43.27800934570007,41.09902808756296,null,null,null,null,null,null,null,null,null,null,null,null,null,null,null,null,null,null,null,null,null,null],[96.78095358913306,100.0,97.34971045485216,97.61482479521338,93.7287145282798,88.34543314671589,88.3991303887182,84.45056647410127,79.78524936849325,74.32476349863104,69.25206877707951,68.20048108825482,62.67297604177703,null,null,null,null,null,null,null,null,null,null,null,null,null,null,null,null,null,null,null,null,null,null,null],[99.8688130753157,100.0,106.35740790430417,100.21826023003592,101.00114142078387,94.95056855545623,92.65444980320571,95.82860058475224,88.21952260527557,76.55193603594711,68.06802367370659,64.53105123324886,null,null,null,null,null,null,null,null,null,null,null,null,null,null,null,null,null,null,null,null,null,null,null,null],[98.84190928663583,100.0,99.07637606136696,98.74971526916556,96.61334712254805,96.05512113622508,83.57151533141187,76.13941311190389,65.29690529484455,62.590016508299314,59.01532214586924,null,null,null,null,null,null,null,null,null,null,null,null,null,null,null,null,null,null,null,null,null,null,null,null,null],[98.90011138044854,100.0,101.1256686528889,99.1194646744856,99.82296521051404,98.22978591154184,84.18880225965115,74.42711681281003,65.98328169298281,60.914454356227964,null,null,null,null,null,null,null,null,null,null,null,null,null,null,null,null,null,null,null,null,null,null,null,null,null,null],[99.08443602941918,100.0,99.99466084594185,99.62541796266406,88.97298679681043,76.51422783606105,71.50144639478108,60.315615791781966,55.723909651642636,null,null,null,null,null,null,null,null,null,null,null,null,null,null,null,null,null,null,null,null,null,null,null,null,null,null,null],[99.56997000984745,100.0,99.5347183593082,99.82551745462392,89.40956573533391,90.66427280731992,79.59844309070351,71.38065490402109,null,null,null,null,null,null,null,null,null,null,null,null,null,null,null,null,null,null,null,null,null,null,null,null,null,null,null,null],[98.36392646016088,100.0,100.2880544973942,96.57367061875149,93.43369918668448,82.83013713344623,76.91470977101253,null,null,null,null,null,null,null,null,null,null,null,null,null,null,null,null,null,null,null,null,null,null,null,null,null,null,null,null,null],[91.26974335962701,100.0,100.40820431939808,99.63187955681715,99.79042545496816,90.36897464897817,null,null,null,null,null,null,null,null,null,null,null,null,null,null,null,null,null,null,null,null,null,null,null,null,null,null,null,null,null,null],[98.5533243057693,100.0,100.20568787887443,95.16424859972726,90.84201880639084,null,null,null,null,null,null,null,null,null,null,null,null,null,null,null,null,null,null,null,null,null,null,null,null,null,null,null,null,null,null,null],[98.27780077985203,100.0,99.049336403776,96.55018208283511,null,null,null,null,null,null,null,null,null,null,null,null,null,null,null,null,null,null,null,null,null,null,null,null,null,null,null,null,null,null,null,null],[91.76608252606596,100.0,103.55536956952749,null,null,null,null,null,null,null,null,null,null,null,null,null,null,null,null,null,null,null,null,null,null,null,null,null,null,null,null,null,null,null,null,null],[99.51981191163424,100.0,null,null,null,null,null,null,null,null,null,null,null,null,null,null,null,null,null,null,null,null,null,null,null,null,null,null,null,null,null,null,null,null,null,null],[null,100.0,null,null,null,null,null,null,null,null,null,null,null,null,null,null,null,null,null,null,null,null,null,null,null,null,null,null,null,null,null,null,null,null,null,null]],\"type\":\"heatmap\",\"xaxis\":\"x\",\"yaxis\":\"y\",\"hovertemplate\":\"meses: %{x}<br>data_base: %{y}<br>color: %{z}<extra></extra>\"}],                        {\"template\":{\"data\":{\"histogram2dcontour\":[{\"type\":\"histogram2dcontour\",\"colorbar\":{\"outlinewidth\":0,\"ticks\":\"\"},\"colorscale\":[[0.0,\"#0d0887\"],[0.1111111111111111,\"#46039f\"],[0.2222222222222222,\"#7201a8\"],[0.3333333333333333,\"#9c179e\"],[0.4444444444444444,\"#bd3786\"],[0.5555555555555556,\"#d8576b\"],[0.6666666666666666,\"#ed7953\"],[0.7777777777777778,\"#fb9f3a\"],[0.8888888888888888,\"#fdca26\"],[1.0,\"#f0f921\"]]}],\"choropleth\":[{\"type\":\"choropleth\",\"colorbar\":{\"outlinewidth\":0,\"ticks\":\"\"}}],\"histogram2d\":[{\"type\":\"histogram2d\",\"colorbar\":{\"outlinewidth\":0,\"ticks\":\"\"},\"colorscale\":[[0.0,\"#0d0887\"],[0.1111111111111111,\"#46039f\"],[0.2222222222222222,\"#7201a8\"],[0.3333333333333333,\"#9c179e\"],[0.4444444444444444,\"#bd3786\"],[0.5555555555555556,\"#d8576b\"],[0.6666666666666666,\"#ed7953\"],[0.7777777777777778,\"#fb9f3a\"],[0.8888888888888888,\"#fdca26\"],[1.0,\"#f0f921\"]]}],\"heatmap\":[{\"type\":\"heatmap\",\"colorbar\":{\"outlinewidth\":0,\"ticks\":\"\"},\"colorscale\":[[0.0,\"#0d0887\"],[0.1111111111111111,\"#46039f\"],[0.2222222222222222,\"#7201a8\"],[0.3333333333333333,\"#9c179e\"],[0.4444444444444444,\"#bd3786\"],[0.5555555555555556,\"#d8576b\"],[0.6666666666666666,\"#ed7953\"],[0.7777777777777778,\"#fb9f3a\"],[0.8888888888888888,\"#fdca26\"],[1.0,\"#f0f921\"]]}],\"heatmapgl\":[{\"type\":\"heatmapgl\",\"colorbar\":{\"outlinewidth\":0,\"ticks\":\"\"},\"colorscale\":[[0.0,\"#0d0887\"],[0.1111111111111111,\"#46039f\"],[0.2222222222222222,\"#7201a8\"],[0.3333333333333333,\"#9c179e\"],[0.4444444444444444,\"#bd3786\"],[0.5555555555555556,\"#d8576b\"],[0.6666666666666666,\"#ed7953\"],[0.7777777777777778,\"#fb9f3a\"],[0.8888888888888888,\"#fdca26\"],[1.0,\"#f0f921\"]]}],\"contourcarpet\":[{\"type\":\"contourcarpet\",\"colorbar\":{\"outlinewidth\":0,\"ticks\":\"\"}}],\"contour\":[{\"type\":\"contour\",\"colorbar\":{\"outlinewidth\":0,\"ticks\":\"\"},\"colorscale\":[[0.0,\"#0d0887\"],[0.1111111111111111,\"#46039f\"],[0.2222222222222222,\"#7201a8\"],[0.3333333333333333,\"#9c179e\"],[0.4444444444444444,\"#bd3786\"],[0.5555555555555556,\"#d8576b\"],[0.6666666666666666,\"#ed7953\"],[0.7777777777777778,\"#fb9f3a\"],[0.8888888888888888,\"#fdca26\"],[1.0,\"#f0f921\"]]}],\"surface\":[{\"type\":\"surface\",\"colorbar\":{\"outlinewidth\":0,\"ticks\":\"\"},\"colorscale\":[[0.0,\"#0d0887\"],[0.1111111111111111,\"#46039f\"],[0.2222222222222222,\"#7201a8\"],[0.3333333333333333,\"#9c179e\"],[0.4444444444444444,\"#bd3786\"],[0.5555555555555556,\"#d8576b\"],[0.6666666666666666,\"#ed7953\"],[0.7777777777777778,\"#fb9f3a\"],[0.8888888888888888,\"#fdca26\"],[1.0,\"#f0f921\"]]}],\"mesh3d\":[{\"type\":\"mesh3d\",\"colorbar\":{\"outlinewidth\":0,\"ticks\":\"\"}}],\"scatter\":[{\"fillpattern\":{\"fillmode\":\"overlay\",\"size\":10,\"solidity\":0.2},\"type\":\"scatter\"}],\"parcoords\":[{\"type\":\"parcoords\",\"line\":{\"colorbar\":{\"outlinewidth\":0,\"ticks\":\"\"}}}],\"scatterpolargl\":[{\"type\":\"scatterpolargl\",\"marker\":{\"colorbar\":{\"outlinewidth\":0,\"ticks\":\"\"}}}],\"bar\":[{\"error_x\":{\"color\":\"#2a3f5f\"},\"error_y\":{\"color\":\"#2a3f5f\"},\"marker\":{\"line\":{\"color\":\"#E5ECF6\",\"width\":0.5},\"pattern\":{\"fillmode\":\"overlay\",\"size\":10,\"solidity\":0.2}},\"type\":\"bar\"}],\"scattergeo\":[{\"type\":\"scattergeo\",\"marker\":{\"colorbar\":{\"outlinewidth\":0,\"ticks\":\"\"}}}],\"scatterpolar\":[{\"type\":\"scatterpolar\",\"marker\":{\"colorbar\":{\"outlinewidth\":0,\"ticks\":\"\"}}}],\"histogram\":[{\"marker\":{\"pattern\":{\"fillmode\":\"overlay\",\"size\":10,\"solidity\":0.2}},\"type\":\"histogram\"}],\"scattergl\":[{\"type\":\"scattergl\",\"marker\":{\"colorbar\":{\"outlinewidth\":0,\"ticks\":\"\"}}}],\"scatter3d\":[{\"type\":\"scatter3d\",\"line\":{\"colorbar\":{\"outlinewidth\":0,\"ticks\":\"\"}},\"marker\":{\"colorbar\":{\"outlinewidth\":0,\"ticks\":\"\"}}}],\"scattermapbox\":[{\"type\":\"scattermapbox\",\"marker\":{\"colorbar\":{\"outlinewidth\":0,\"ticks\":\"\"}}}],\"scatterternary\":[{\"type\":\"scatterternary\",\"marker\":{\"colorbar\":{\"outlinewidth\":0,\"ticks\":\"\"}}}],\"scattercarpet\":[{\"type\":\"scattercarpet\",\"marker\":{\"colorbar\":{\"outlinewidth\":0,\"ticks\":\"\"}}}],\"carpet\":[{\"aaxis\":{\"endlinecolor\":\"#2a3f5f\",\"gridcolor\":\"white\",\"linecolor\":\"white\",\"minorgridcolor\":\"white\",\"startlinecolor\":\"#2a3f5f\"},\"baxis\":{\"endlinecolor\":\"#2a3f5f\",\"gridcolor\":\"white\",\"linecolor\":\"white\",\"minorgridcolor\":\"white\",\"startlinecolor\":\"#2a3f5f\"},\"type\":\"carpet\"}],\"table\":[{\"cells\":{\"fill\":{\"color\":\"#EBF0F8\"},\"line\":{\"color\":\"white\"}},\"header\":{\"fill\":{\"color\":\"#C8D4E3\"},\"line\":{\"color\":\"white\"}},\"type\":\"table\"}],\"barpolar\":[{\"marker\":{\"line\":{\"color\":\"#E5ECF6\",\"width\":0.5},\"pattern\":{\"fillmode\":\"overlay\",\"size\":10,\"solidity\":0.2}},\"type\":\"barpolar\"}],\"pie\":[{\"automargin\":true,\"type\":\"pie\"}]},\"layout\":{\"autotypenumbers\":\"strict\",\"colorway\":[\"#636efa\",\"#EF553B\",\"#00cc96\",\"#ab63fa\",\"#FFA15A\",\"#19d3f3\",\"#FF6692\",\"#B6E880\",\"#FF97FF\",\"#FECB52\"],\"font\":{\"color\":\"#2a3f5f\"},\"hovermode\":\"closest\",\"hoverlabel\":{\"align\":\"left\"},\"paper_bgcolor\":\"white\",\"plot_bgcolor\":\"#E5ECF6\",\"polar\":{\"bgcolor\":\"#E5ECF6\",\"angularaxis\":{\"gridcolor\":\"white\",\"linecolor\":\"white\",\"ticks\":\"\"},\"radialaxis\":{\"gridcolor\":\"white\",\"linecolor\":\"white\",\"ticks\":\"\"}},\"ternary\":{\"bgcolor\":\"#E5ECF6\",\"aaxis\":{\"gridcolor\":\"white\",\"linecolor\":\"white\",\"ticks\":\"\"},\"baxis\":{\"gridcolor\":\"white\",\"linecolor\":\"white\",\"ticks\":\"\"},\"caxis\":{\"gridcolor\":\"white\",\"linecolor\":\"white\",\"ticks\":\"\"}},\"coloraxis\":{\"colorbar\":{\"outlinewidth\":0,\"ticks\":\"\"}},\"colorscale\":{\"sequential\":[[0.0,\"#0d0887\"],[0.1111111111111111,\"#46039f\"],[0.2222222222222222,\"#7201a8\"],[0.3333333333333333,\"#9c179e\"],[0.4444444444444444,\"#bd3786\"],[0.5555555555555556,\"#d8576b\"],[0.6666666666666666,\"#ed7953\"],[0.7777777777777778,\"#fb9f3a\"],[0.8888888888888888,\"#fdca26\"],[1.0,\"#f0f921\"]],\"sequentialminus\":[[0.0,\"#0d0887\"],[0.1111111111111111,\"#46039f\"],[0.2222222222222222,\"#7201a8\"],[0.3333333333333333,\"#9c179e\"],[0.4444444444444444,\"#bd3786\"],[0.5555555555555556,\"#d8576b\"],[0.6666666666666666,\"#ed7953\"],[0.7777777777777778,\"#fb9f3a\"],[0.8888888888888888,\"#fdca26\"],[1.0,\"#f0f921\"]],\"diverging\":[[0,\"#8e0152\"],[0.1,\"#c51b7d\"],[0.2,\"#de77ae\"],[0.3,\"#f1b6da\"],[0.4,\"#fde0ef\"],[0.5,\"#f7f7f7\"],[0.6,\"#e6f5d0\"],[0.7,\"#b8e186\"],[0.8,\"#7fbc41\"],[0.9,\"#4d9221\"],[1,\"#276419\"]]},\"xaxis\":{\"gridcolor\":\"white\",\"linecolor\":\"white\",\"ticks\":\"\",\"title\":{\"standoff\":15},\"zerolinecolor\":\"white\",\"automargin\":true,\"zerolinewidth\":2},\"yaxis\":{\"gridcolor\":\"white\",\"linecolor\":\"white\",\"ticks\":\"\",\"title\":{\"standoff\":15},\"zerolinecolor\":\"white\",\"automargin\":true,\"zerolinewidth\":2},\"scene\":{\"xaxis\":{\"backgroundcolor\":\"#E5ECF6\",\"gridcolor\":\"white\",\"linecolor\":\"white\",\"showbackground\":true,\"ticks\":\"\",\"zerolinecolor\":\"white\",\"gridwidth\":2},\"yaxis\":{\"backgroundcolor\":\"#E5ECF6\",\"gridcolor\":\"white\",\"linecolor\":\"white\",\"showbackground\":true,\"ticks\":\"\",\"zerolinecolor\":\"white\",\"gridwidth\":2},\"zaxis\":{\"backgroundcolor\":\"#E5ECF6\",\"gridcolor\":\"white\",\"linecolor\":\"white\",\"showbackground\":true,\"ticks\":\"\",\"zerolinecolor\":\"white\",\"gridwidth\":2}},\"shapedefaults\":{\"line\":{\"color\":\"#2a3f5f\"}},\"annotationdefaults\":{\"arrowcolor\":\"#2a3f5f\",\"arrowhead\":0,\"arrowwidth\":1},\"geo\":{\"bgcolor\":\"white\",\"landcolor\":\"#E5ECF6\",\"subunitcolor\":\"white\",\"showland\":true,\"showlakes\":true,\"lakecolor\":\"white\"},\"title\":{\"x\":0.05},\"mapbox\":{\"style\":\"light\"}}},\"xaxis\":{\"anchor\":\"y\",\"domain\":[0.0,1.0],\"scaleanchor\":\"y\",\"constrain\":\"domain\",\"title\":{\"text\":\"meses\"}},\"yaxis\":{\"anchor\":\"x\",\"domain\":[0.0,1.0],\"autorange\":\"reversed\",\"constrain\":\"domain\",\"title\":{\"text\":\"data_base\"}},\"coloraxis\":{\"colorscale\":[[0.0,\"rgb(207, 89, 126)\"],[0.16666666666666666,\"rgb(232, 132, 113)\"],[0.3333333333333333,\"rgb(238, 180, 121)\"],[0.5,\"rgb(233, 226, 156)\"],[0.6666666666666666,\"rgb(156, 203, 134)\"],[0.8333333333333334,\"rgb(57, 177, 133)\"],[1.0,\"rgb(0, 147, 146)\"]]},\"margin\":{\"t\":60}},                        {\"responsive\": true}                    ).then(function(){\n",
       "                            \n",
       "var gd = document.getElementById('ac7520a6-9363-4867-a807-dd5161cda866');\n",
       "var x = new MutationObserver(function (mutations, observer) {{\n",
       "        var display = window.getComputedStyle(gd).display;\n",
       "        if (!display || display === 'none') {{\n",
       "            console.log([gd, 'removed!']);\n",
       "            Plotly.purge(gd);\n",
       "            observer.disconnect();\n",
       "        }}\n",
       "}});\n",
       "\n",
       "// Listen for the removal of the full notebook cells\n",
       "var notebookContainer = gd.closest('#notebook-container');\n",
       "if (notebookContainer) {{\n",
       "    x.observe(notebookContainer, {childList: true});\n",
       "}}\n",
       "\n",
       "// Listen for the clearing of the current output cell\n",
       "var outputEl = gd.closest('.output');\n",
       "if (outputEl) {{\n",
       "    x.observe(outputEl, {childList: true});\n",
       "}}\n",
       "\n",
       "                        })                };                });            </script>        </div>"
      ]
     },
     "metadata": {},
     "output_type": "display_data"
    }
   ],
   "source": [
    "\n",
    "fig = px.imshow(mrr_lt.loc['2020':].iloc[:,:36], text_auto='.1f', color_continuous_scale='temps_r')\n",
    "fig.show()"
   ]
  },
  {
   "cell_type": "code",
   "execution_count": 187,
   "metadata": {},
   "outputs": [],
   "source": [
    "colors=['tealrose', 'tempo', 'temps', 'thermal', 'tropic', 'turbid', 'turbo', 'twilight', 'viridis', 'ylgn', 'ylgnbu', 'ylorbr', 'ylorrd']\n",
    "            "
   ]
  },
  {
   "cell_type": "code",
   "execution_count": 182,
   "metadata": {},
   "outputs": [],
   "source": [
    "base.data_base = pd.to_datetime(base.data_base, format='%d/%m/%Y')"
   ]
  },
  {
   "cell_type": "code",
   "execution_count": 185,
   "metadata": {},
   "outputs": [
    {
     "data": {
      "text/plain": [
       "202"
      ]
     },
     "execution_count": 185,
     "metadata": {},
     "output_type": "execute_result"
    }
   ],
   "source": [
    "len(base.set_index('data_base').loc['2022-05':'2022-07'].razao_social.unique())"
   ]
  },
  {
   "cell_type": "code",
   "execution_count": 188,
   "metadata": {},
   "outputs": [],
   "source": [
    "mrr.to_parquet('mrr.parquet')\n",
    "cliente.to_parquet('cliente.parquet')"
   ]
  },
  {
   "cell_type": "code",
   "execution_count": null,
   "metadata": {},
   "outputs": [],
   "source": []
  }
 ],
 "metadata": {
  "kernelspec": {
   "display_name": "exact",
   "language": "python",
   "name": "python3"
  },
  "language_info": {
   "codemirror_mode": {
    "name": "ipython",
    "version": 3
   },
   "file_extension": ".py",
   "mimetype": "text/x-python",
   "name": "python",
   "nbconvert_exporter": "python",
   "pygments_lexer": "ipython3",
   "version": "3.8.10 (default, Nov 14 2022, 12:59:47) \n[GCC 9.4.0]"
  },
  "orig_nbformat": 4,
  "vscode": {
   "interpreter": {
    "hash": "4647c482a434fa9a2692d0e742dd87e5b346d318f2111d1dadb587cee05da2cf"
   }
  }
 },
 "nbformat": 4,
 "nbformat_minor": 2
}
